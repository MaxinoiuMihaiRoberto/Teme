{
 "cells": [
  {
   "cell_type": "code",
   "execution_count": 1,
   "metadata": {},
   "outputs": [
    {
     "name": "stdout",
     "output_type": "stream",
     "text": [
      "Populating the interactive namespace from numpy and matplotlib\n"
     ]
    }
   ],
   "source": [
    "import numpy as np\n",
    "import pandas as pd\n",
    "import scipy\n",
    "import matplotlib.pyplot as plt\n",
    "import math as m\n",
    "import scipy.stats as stats\n",
    "\n",
    "%pylab inline\n",
    "pylab.rcParams['figure.figsize'] = (14, 6)"
   ]
  },
  {
   "cell_type": "code",
   "execution_count": 12,
   "metadata": {},
   "outputs": [
    {
     "name": "stdout",
     "output_type": "stream",
     "text": [
      "Heads:  3 0.6\n",
      "Tails:  2 0.4\n"
     ]
    }
   ],
   "source": [
    "np.random.seed(123)\n",
    "\n",
    "draws = 5\n",
    "coin_sample = random.binomial(1, 0.5, draws)\n",
    "coin_average = [coin_sample[:jj].mean() for jj in range(1, draws)]\n",
    "\n",
    "heads = np.sum(coin_sample[coin_sample==1])\n",
    "print('Heads: ', heads, heads/draws)\n",
    "print('Tails: ', 5-heads, 1-heads/draws)"
   ]
  },
  {
   "cell_type": "code",
   "execution_count": 19,
   "metadata": {},
   "outputs": [
    {
     "data": {
      "text/plain": [
       "1.0"
      ]
     },
     "execution_count": 19,
     "metadata": {},
     "output_type": "execute_result"
    }
   ],
   "source": [
    "stats.binom_test(x=[3, 2], p=0.5, alternative='two-sided')"
   ]
  },
  {
   "cell_type": "code",
   "execution_count": 17,
   "metadata": {},
   "outputs": [
    {
     "name": "stdout",
     "output_type": "stream",
     "text": [
      "Heads:  7 0.7\n",
      "Tails:  3 0.30000000000000004\n"
     ]
    }
   ],
   "source": [
    "np.random.seed(0)\n",
    "\n",
    "draws = 10\n",
    "coin_sample = random.binomial(1, 0.5, draws)\n",
    "coin_average = [coin_sample[:jj].mean() for jj in range(1, draws)]\n",
    "\n",
    "heads = np.sum(coin_sample[coin_sample==1])\n",
    "print('Heads: ', heads, heads/draws)\n",
    "print('Tails: ', 10-heads, 1-heads/draws)"
   ]
  },
  {
   "cell_type": "code",
   "execution_count": 20,
   "metadata": {},
   "outputs": [
    {
     "data": {
      "text/plain": [
       "0.3437499999999999"
      ]
     },
     "execution_count": 20,
     "metadata": {},
     "output_type": "execute_result"
    }
   ],
   "source": [
    "stats.binom_test(x=[7, 3], p=0.5, alternative='two-sided')"
   ]
  },
  {
   "cell_type": "code",
   "execution_count": 16,
   "metadata": {},
   "outputs": [
    {
     "name": "stdout",
     "output_type": "stream",
     "text": [
      "Heads:  12 0.4\n",
      "Tails:  18 0.6\n"
     ]
    }
   ],
   "source": [
    "np.random.seed(1)\n",
    "\n",
    "draws = 30\n",
    "coin_sample = random.binomial(1, 0.5, draws)\n",
    "coin_average = [coin_sample[:jj].mean() for jj in range(1, draws)]\n",
    "\n",
    "heads = np.sum(coin_sample[coin_sample==1])\n",
    "print('Heads: ', heads, heads/draws)\n",
    "print('Tails: ', 30-heads, 1-heads/draws)"
   ]
  },
  {
   "cell_type": "code",
   "execution_count": 21,
   "metadata": {},
   "outputs": [
    {
     "data": {
      "text/plain": [
       "0.361594608053565"
      ]
     },
     "execution_count": 21,
     "metadata": {},
     "output_type": "execute_result"
    }
   ],
   "source": [
    "stats.binom_test(x=[12, 18], p=0.5, alternative='two-sided')"
   ]
  },
  {
   "cell_type": "code",
   "execution_count": null,
   "metadata": {},
   "outputs": [],
   "source": []
  },
  {
   "cell_type": "code",
   "execution_count": 22,
   "metadata": {},
   "outputs": [],
   "source": [
    "pearson = pd.read_csv('pearson.csv')"
   ]
  },
  {
   "cell_type": "code",
   "execution_count": 30,
   "metadata": {},
   "outputs": [],
   "source": [
    "ms = pearson[pearson['gp']=='ms']\n",
    "md = pearson[pearson['gp']=='md']"
   ]
  },
  {
   "cell_type": "code",
   "execution_count": 36,
   "metadata": {},
   "outputs": [
    {
     "data": {
      "image/png": "[encoded data removed]",
      "text/plain": [
       "<Figure size 432x288 with 1 Axes>"
      ]
     },
     "metadata": {
      "needs_background": "light"
     },
     "output_type": "display_data"
    }
   ],
   "source": [
    "plt.scatter(\n",
    "    ms['child'] + np.random.normal(scale=1.5, size=ms.shape[0]), \n",
    "    ms['parent'] + np.random.normal(scale=1.5, size=ms.shape[0]), c='y')\n",
    "plt.scatter(\n",
    "    md['child'] + np.random.normal(scale=1.5, size=md.shape[0]), \n",
    "    md['parent'] + np.random.normal(scale=1.5, size=md.shape[0]), c='g')\n",
    "plt.show()"
   ]
  },
  {
   "cell_type": "code",
   "execution_count": 37,
   "metadata": {},
   "outputs": [
    {
     "data": {
      "text/plain": [
       "(0.48491768425178605, 9.100362271637274e-12)"
      ]
     },
     "execution_count": 37,
     "metadata": {},
     "output_type": "execute_result"
    }
   ],
   "source": [
    "stats.pearsonr(ms['parent'], ms['child'])"
   ]
  },
  {
   "cell_type": "code",
   "execution_count": 38,
   "metadata": {},
   "outputs": [
    {
     "data": {
      "text/plain": [
       "(0.4674367713012403, 1.9747722235598635e-11)"
      ]
     },
     "execution_count": 38,
     "metadata": {},
     "output_type": "execute_result"
    }
   ],
   "source": [
    "stats.pearsonr(md['parent'], md['child'])"
   ]
  },
  {
   "cell_type": "code",
   "execution_count": null,
   "metadata": {},
   "outputs": [],
   "source": []
  }
 ],
 "metadata": {
  "kernelspec": {
   "display_name": "Python 3",
   "language": "python",
   "name": "python3"
  },
  "language_info": {
   "codemirror_mode": {
    "name": "ipython",
    "version": 3
   },
   "file_extension": ".py",
   "mimetype": "text/x-python",
   "name": "python",
   "nbconvert_exporter": "python",
   "pygments_lexer": "ipython3",
   "version": "3.7.4"
  }
 },
 "nbformat": 4,
 "nbformat_minor": 2
}

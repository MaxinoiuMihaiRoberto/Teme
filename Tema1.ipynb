{
 "cells": [
  {
   "cell_type": "code",
   "execution_count": 6,
   "metadata": {},
   "outputs": [],
   "source": [
    "import numpy as np\n",
    "from __future__ import print_function"
   ]
  },
  {
   "cell_type": "markdown",
   "metadata": {},
   "source": [
    "## Load the numbers from numbers.txt\n"
   ]
  },
  {
   "cell_type": "code",
   "execution_count": 7,
   "metadata": {},
   "outputs": [
    {
     "name": "stdout",
     "output_type": "stream",
     "text": [
      "[[10. 15. 20. 30.]\n",
      " [20. 25. 50. 80.]\n",
      " [50. 54. 55. 70.]\n",
      " [30. 35. 60. 13.]\n",
      " [40. 45. 70. 30.]\n",
      " [60. 66. 12. 17.]]\n"
     ]
    }
   ],
   "source": [
    "loaded_items=np.genfromtxt('numbers.txt', delimiter=',')\n",
    "print(loaded_items)"
   ]
  },
  {
   "cell_type": "code",
   "execution_count": 11,
   "metadata": {},
   "outputs": [
    {
     "name": "stdout",
     "output_type": "stream",
     "text": [
      "[ 75. 175. 229. 138. 185. 155.]\n"
     ]
    }
   ],
   "source": [
    "SumOnEachLine=np.sum(loaded_items,axis=1)\n",
    "print(SumOnEachLine)"
   ]
  },
  {
   "cell_type": "code",
   "execution_count": 12,
   "metadata": {},
   "outputs": [
    {
     "name": "stdout",
     "output_type": "stream",
     "text": [
      "957.0\n"
     ]
    }
   ],
   "source": [
    "SumAll=np.sum(loaded_items)\n",
    "print(SumAll)"
   ]
  },
  {
   "cell_type": "code",
   "execution_count": 16,
   "metadata": {},
   "outputs": [
    {
     "name": "stdout",
     "output_type": "stream",
     "text": [
      "13\n"
     ]
    }
   ],
   "source": [
    "count=0\n",
    "Greater=[loaded_items[loaded_items>30.1]]\n",
    "\n",
    "for x in np.nditer(Greater):\n",
    "    count+=1\n",
    "    \n",
    "print(count)"
   ]
  },
  {
   "cell_type": "code",
   "execution_count": 15,
   "metadata": {},
   "outputs": [
    {
     "name": "stdout",
     "output_type": "stream",
     "text": [
      "[array([50., 80., 50., 54., 55., 70., 35., 60., 40., 45., 70., 60., 66.])]\n"
     ]
    }
   ],
   "source": [
    "Greater=[loaded_items[loaded_items>30.1]]\n",
    "print(Greater)"
   ]
  },
  {
   "cell_type": "code",
   "execution_count": 17,
   "metadata": {},
   "outputs": [
    {
     "name": "stdout",
     "output_type": "stream",
     "text": [
      "[10. 15. 20. 30. 20. 25. 50. 80. 50. 54. 55. 70. 30. 35. 60. 13. 40. 45.\n",
      " 70. 30. 60. 66. 12. 17.]\n"
     ]
    }
   ],
   "source": [
    "ConcatenateArray= np.concatenate((loaded_items), axis=None)\n",
    "print(ConcatenateArray)"
   ]
  },
  {
   "cell_type": "code",
   "execution_count": 50,
   "metadata": {},
   "outputs": [
    {
     "ename": "SyntaxError",
     "evalue": "invalid syntax (<ipython-input-50-056766a24b0c>, line 4)",
     "output_type": "error",
     "traceback": [
      "\u001b[1;36m  File \u001b[1;32m\"<ipython-input-50-056766a24b0c>\"\u001b[1;36m, line \u001b[1;32m4\u001b[0m\n\u001b[1;33m    if ([loaded_items[loaded_items < x]!=0])\u001b[0m\n\u001b[1;37m                                            ^\u001b[0m\n\u001b[1;31mSyntaxError\u001b[0m\u001b[1;31m:\u001b[0m invalid syntax\n"
     ]
    }
   ],
   "source": [
    "counter1 = 0\n",
    "Array2 = np.zeros([6, 4])\n",
    "for x in np.nditer(loaded_items):\n",
    "    if ([loaded_items[loaded_items < x]])\n",
    "        counter += 1\n",
    "        Array2 = [loaded_items[loaded_items < x]]\n",
    "    else :continue\n",
    "\n",
    "print(Array2)"
   ]
  },
  {
   "cell_type": "code",
   "execution_count": null,
   "metadata": {},
   "outputs": [],
   "source": []
  }
 ],
 "metadata": {
  "kernelspec": {
   "display_name": "Python 3",
   "language": "python",
   "name": "python3"
  },
  "language_info": {
   "codemirror_mode": {
    "name": "ipython",
    "version": 3
   },
   "file_extension": ".py",
   "mimetype": "text/x-python",
   "name": "python",
   "nbconvert_exporter": "python",
   "pygments_lexer": "ipython3",
   "version": "3.7.4"
  }
 },
 "nbformat": 4,
 "nbformat_minor": 2
}
